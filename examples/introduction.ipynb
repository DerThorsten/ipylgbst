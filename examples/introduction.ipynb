{
 "cells": [
  {
   "cell_type": "code",
   "execution_count": 1,
   "id": "879f4b73-57fd-4828-8511-0337efd1f45f",
   "metadata": {},
   "outputs": [],
   "source": [
    "%gui asyncio"
   ]
  },
  {
   "cell_type": "code",
   "execution_count": 2,
   "id": "fcd7cc90-9181-42b1-ad31-cb0357670b59",
   "metadata": {},
   "outputs": [],
   "source": [
    "import sys\n",
    "if sys.platform == \"emscripten\":\n",
    "    import piplite\n",
    "    await piplite.install(\"ipylgbst>=0.2.0\")"
   ]
  },
  {
   "cell_type": "code",
   "execution_count": 3,
   "id": "762d552a-dafd-4b4b-9b0c-8b6612d2415b",
   "metadata": {},
   "outputs": [],
   "source": [
    "import asyncio    \n",
    "from ipylgbst import LegoBoostWidget,LedColor,Port, Sensor\n",
    "from ipywidgets import Output\n",
    "from IPython.display import display\n",
    "\n",
    "colors = [\n",
    "    LedColor.pink,\n",
    "    LedColor.purple,\n",
    "    LedColor.blue,\n",
    "    LedColor.lightblue,\n",
    "    LedColor.cyan,\n",
    "    LedColor.green,\n",
    "    LedColor.yellow,\n",
    "    LedColor.orange,\n",
    "    LedColor.red,\n",
    "]"
   ]
  },
  {
   "cell_type": "code",
   "execution_count": 4,
   "id": "aae633ad-bbb2-45c2-a1ff-5fab18146172",
   "metadata": {},
   "outputs": [
    {
     "data": {
      "application/vnd.jupyter.widget-view+json": {
       "model_id": "5cf3bd74df8f4b9998400585808069cd",
       "version_major": 2,
       "version_minor": 0
      },
      "text/plain": [
       "Output()"
      ]
     },
     "metadata": {},
     "output_type": "display_data"
    },
    {
     "data": {
      "application/vnd.jupyter.widget-view+json": {
       "model_id": "d6be02a74ddb45bfb338c524f7ed696c",
       "version_major": 2,
       "version_minor": 0
      },
      "text/plain": [
       "LegoBoostWidget()"
      ]
     },
     "execution_count": 4,
     "metadata": {},
     "output_type": "execute_result"
    }
   ],
   "source": [
    "boost = LegoBoostWidget()\n",
    "boost.connect()\n",
    "boost"
   ]
  },
  {
   "cell_type": "markdown",
   "id": "618790a2-da4d-4b46-92d7-cd925f5407b5",
   "metadata": {},
   "source": [
    "# Change Color of LED"
   ]
  },
  {
   "cell_type": "code",
   "execution_count": null,
   "id": "62924267-c398-4274-8780-91739cdacafe",
   "metadata": {},
   "outputs": [],
   "source": [
    "\n",
    "out = Output()\n",
    "\n",
    "async def main(lane, log):\n",
    "\n",
    "    for color in colors:\n",
    "        log(f\"set color to {color.value}\")\n",
    "        await lane.set_led(color)\n",
    "        await asyncio.sleep(0.5)\n",
    "        \n",
    "boost.run(main);"
   ]
  },
  {
   "cell_type": "markdown",
   "id": "d8d8c5d9-35b4-419a-be13-083b40888475",
   "metadata": {},
   "source": [
    "# Drive a polygon like path"
   ]
  },
  {
   "cell_type": "code",
   "execution_count": null,
   "id": "39cfdc45-1d1a-4965-b83c-9048320d6a4d",
   "metadata": {},
   "outputs": [],
   "source": [
    "speed = 26\n",
    "d_forward  = 200\n",
    "d_rotate = 300\n",
    "async def main(lane,log):  \n",
    "    for i in range(4):\n",
    "        await lane.set_led(\"red\")\n",
    "        await lane.motor_angle_multi(angle=d_forward, power_a=speed,power_b=speed)\n",
    "        await lane.set_led(\"green\")\n",
    "        await lane.motor_angle_multi(angle=d_rotate, power_a=speed,power_b=-1.0*speed)\n",
    "        \n",
    "\n",
    "f = boost.run(main)"
   ]
  },
  {
   "cell_type": "markdown",
   "id": "1eb52d1d-3aa6-49d7-97d5-a643a9167196",
   "metadata": {},
   "source": [
    "# Buttons"
   ]
  },
  {
   "cell_type": "code",
   "execution_count": null,
   "id": "9e9e863c-9b4e-4455-968c-98219c92ea26",
   "metadata": {},
   "outputs": [],
   "source": [
    "import ipywidgets as widgets\n",
    "\n",
    "button_up = widgets.Button(description='Up')\n",
    "button_down = widgets.Button(description='Down')\n",
    "button_left = widgets.Button(description='Left')\n",
    "button_right = widgets.Button(description='Right')\n",
    "button_stop  = widgets.Button(description='Stop')\n",
    "\n",
    "box_ud = widgets.VBox([button_up,button_stop,button_down])\n",
    "box = widgets.HBox([button_left,box_ud,button_right])\n",
    "\n",
    "\n",
    "async def on_up(lane, out):\n",
    "    await lane.motor_time_multi(10, 50, 50, wait=False)\n",
    "    \n",
    "async def on_down(lane, out):\n",
    "    await lane.motor_time_multi(10, -50, -50, wait=False)\n",
    "    \n",
    "async def on_left(lane, out):\n",
    "    await lane.motor_time_multi(10, -50, 50, wait=False)\n",
    "    \n",
    "async def on_right(lane, out):\n",
    "    await lane.motor_time_multi(10, 50, -50, wait=False)\n",
    "    \n",
    "async def on_stop(lane, out):\n",
    "    await lane.motor_time_multi(0, 0, 0, wait=False)\n",
    "    \n",
    "button_up.on_click(lambda _: boost.run(on_up))\n",
    "button_down.on_click(lambda _: boost.run(on_down))\n",
    "button_left.on_click(lambda _: boost.run(on_left))\n",
    "button_right.on_click(lambda _: boost.run(on_right))\n",
    "button_stop.on_click(lambda _: boost.run(on_stop))\n",
    "\n",
    "box"
   ]
  },
  {
   "cell_type": "markdown",
   "id": "2d2eea32-e03d-4b86-818f-b20ba2ae42d3",
   "metadata": {},
   "source": [
    "# Sensors"
   ]
  },
  {
   "cell_type": "code",
   "execution_count": 7,
   "id": "7915b860-56c2-4034-9951-09a12ce37b2c",
   "metadata": {},
   "outputs": [
    {
     "data": {
      "application/vnd.jupyter.widget-view+json": {
       "model_id": "aed8b7b5949748d69320c0a2ab363e1b",
       "version_major": 2,
       "version_minor": 0
      },
      "text/plain": [
       "VBox(children=(Figure(axes=[Axis(label='time', scale=LinearScale(max=10.0, min=0.0)), Axis(label='distance sen…"
      ]
     },
     "metadata": {},
     "output_type": "display_data"
    },
    {
     "data": {
      "application/vnd.jupyter.widget-view+json": {
       "model_id": "bbb3f1f3314b4f25be87479711371696",
       "version_major": 2,
       "version_minor": 0
      },
      "text/plain": [
       "Output()"
      ]
     },
     "metadata": {},
     "output_type": "display_data"
    }
   ],
   "source": [
    "has_bqplot = True\n",
    "try:\n",
    "    import bqplot\n",
    "except ImportError:\n",
    "    has_bqplot = False\n",
    "\n",
    "if has_bqplot:\n",
    "    from bqplot import pyplot as plt\n",
    "    from bqplot import topo_load\n",
    "    import numpy\n",
    "\n",
    "    duration = 10.0\n",
    "    dt = 0.10\n",
    "    clip_value = 200\n",
    "\n",
    "    sensor_values = []\n",
    "    time_points = []\n",
    "\n",
    "    plt.figure()\n",
    "    plt.plot([], [])\n",
    "    plt.xlim(0,duration)\n",
    "    plt.ylim(0, clip_value)\n",
    "    plt.xlabel(\"time\")\n",
    "    plt.ylabel(\"distance sensor\")\n",
    "    plt.show()\n",
    "\n",
    "    async def poll_distance_sensor(lane, log):\n",
    "        global sensor_values\n",
    "        global time_points\n",
    "        t = 0.0\n",
    "        while t < duration:\n",
    "            time_points.append(t)\n",
    "            d = numpy.nan_to_num(await lane.get_distance(), clip_value)\n",
    "            d = numpy.clip(d,0, clip_value)\n",
    "            sensor_values.append(d)\n",
    "            await asyncio.sleep(dt)\n",
    "            t += dt\n",
    "            plt.plot(time_points, sensor_values)\n",
    "\n",
    "    boost.run(poll_distance_sensor);"
   ]
  },
  {
   "cell_type": "markdown",
   "id": "3117c875-176e-4caa-a918-eadfd6f13f5f",
   "metadata": {},
   "source": [
    "# Concurrent Programs"
   ]
  },
  {
   "cell_type": "code",
   "execution_count": 5,
   "id": "8c8410d3-e1da-4a36-b40e-15a8076611ae",
   "metadata": {},
   "outputs": [
    {
     "data": {
      "application/vnd.jupyter.widget-view+json": {
       "model_id": "e61a3021fad742a7a299f514048575de",
       "version_major": 2,
       "version_minor": 0
      },
      "text/plain": [
       "Output()"
      ]
     },
     "metadata": {},
     "output_type": "display_data"
    }
   ],
   "source": [
    "\n",
    "async def set_leds(lane, log):\n",
    "\n",
    "    for color in colors:\n",
    "        log(f\"set color to {color.value}\")\n",
    "        await lane.set_led(color)\n",
    "        await asyncio.sleep(0.5)\n",
    "        \n",
    "\n",
    "speed = 26\n",
    "d_forward  = 200\n",
    "d_rotate = 300\n",
    "async def drive(lane,log):  \n",
    "    for i in range(4):\n",
    "        await lane.motor_angle_multi(angle=d_forward, power_a=speed,power_b=speed)\n",
    "        await lane.motor_angle_multi(angle=d_rotate, power_a=speed,power_b=-1.0*speed)\n",
    "\n",
    "\n",
    "boost.run_concurrent([set_leds,drive]);"
   ]
  },
  {
   "cell_type": "markdown",
   "id": "54114a76-e5cb-4c67-a8c5-65fcf644ea2b",
   "metadata": {},
   "source": [
    "# Gamepad"
   ]
  },
  {
   "cell_type": "code",
   "execution_count": 1,
   "id": "5edf19bd-24e0-435e-a311-6b09c82b44dc",
   "metadata": {},
   "outputs": [
    {
     "data": {
      "application/vnd.jupyter.widget-view+json": {
       "model_id": "1619b29ff695430399f4c449ddf0f72b",
       "version_major": 2,
       "version_minor": 0
      },
      "text/plain": [
       "Controller()"
      ]
     },
     "execution_count": 1,
     "metadata": {},
     "output_type": "execute_result"
    }
   ],
   "source": [
    "from ipywidgets import Controller\n",
    "Controller(index=0)"
   ]
  },
  {
   "cell_type": "code",
   "execution_count": 2,
   "id": "3f3d3f1a-3f54-400c-8ac8-547f27f212a8",
   "metadata": {},
   "outputs": [
    {
     "data": {
      "text/plain": [
       "'8.0.4'"
      ]
     },
     "execution_count": 2,
     "metadata": {},
     "output_type": "execute_result"
    }
   ],
   "source": [
    "import ipywidgets\n",
    "ipywidgets.__version__"
   ]
  },
  {
   "cell_type": "code",
   "execution_count": null,
   "id": "5af90205-29f4-43f8-a43e-d75fa1a85200",
   "metadata": {},
   "outputs": [],
   "source": []
  }
 ],
 "metadata": {
  "kernelspec": {
   "display_name": "Python 3 (ipykernel)",
   "language": "python",
   "name": "python3"
  },
  "language_info": {
   "codemirror_mode": {
    "name": "ipython",
    "version": 3
   },
   "file_extension": ".py",
   "mimetype": "text/x-python",
   "name": "python",
   "nbconvert_exporter": "python",
   "pygments_lexer": "ipython3",
   "version": "3.10.9"
  }
 },
 "nbformat": 4,
 "nbformat_minor": 5
}
